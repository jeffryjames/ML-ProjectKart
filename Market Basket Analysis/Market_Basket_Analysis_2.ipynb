{
  "nbformat": 4,
  "nbformat_minor": 0,
  "metadata": {
    "colab": {
      "name": "Market Basket Analysis 2.ipynb",
      "provenance": [],
      "collapsed_sections": []
    },
    "kernelspec": {
      "name": "python3",
      "display_name": "Python 3"
    },
    "language_info": {
      "name": "python"
    }
  },
  "cells": [
    {
      "cell_type": "code",
      "metadata": {
        "colab": {
          "base_uri": "https://localhost:8080/"
        },
        "id": "bhhTIOCyq0ZI",
        "outputId": "6ede84d2-d818-40e8-9c6e-c2e39bc657a4"
      },
      "source": [
        "import pandas as pd\n",
        "\n",
        "data = pd.read_csv('/content/data.csv')\n",
        "print(data)"
      ],
      "execution_count": 1,
      "outputs": [
        {
          "output_type": "stream",
          "text": [
            "             Date  Voucher  ...  Qty    Rate\n",
            "0      2017-04-01        1  ...    2  1690.0\n",
            "1      2017-04-01        1  ...    6  1620.0\n",
            "2      2017-04-01        2  ...  500    23.0\n",
            "3      2017-04-01        2  ...    6  1620.0\n",
            "4      2017-04-01        2  ...    5  1690.0\n",
            "...           ...      ...  ...  ...     ...\n",
            "95557  2019-10-10     4935  ...  140    26.0\n",
            "95558  2019-10-10     4935  ...  600     8.4\n",
            "95559  2019-10-10     4935  ...  320    16.0\n",
            "95560  2019-10-10     4935  ...  800     8.5\n",
            "95561  2019-10-10     4935  ...  400    16.0\n",
            "\n",
            "[95562 rows x 6 columns]\n"
          ],
          "name": "stdout"
        }
      ]
    },
    {
      "cell_type": "markdown",
      "metadata": {
        "id": "gulQGBbIsirx"
      },
      "source": [
        "# using User-User based recommendation\n",
        "##Building Correlation Matrix for the Customer-Product relations "
      ]
    },
    {
      "cell_type": "code",
      "metadata": {
        "id": "JQPkb_PWsjJZ"
      },
      "source": [
        "# Finding the total qty purchased by each customer of each product\n",
        "prod_cust_qty = data.groupby(['Product','Party']).agg({'Qty':'sum'})\n",
        "\n",
        "# Reset the index by converting the Party and Product into columns\n",
        "prod_cust_qty.reset_index(inplace=True)"
      ],
      "execution_count": 5,
      "outputs": []
    },
    {
      "cell_type": "markdown",
      "metadata": {
        "id": "kWB3Ye8ZtXzm"
      },
      "source": [
        "**Finding the no of unique customers purchased each product**"
      ]
    },
    {
      "cell_type": "code",
      "metadata": {
        "id": "nGlRUy_mtXXH"
      },
      "source": [
        "prod_cust_count = data.groupby(['Product']).agg({'Party':'nunique'})\n",
        "\n",
        "# Set the customer count column\n",
        "prod_cust_count.columns=['No_of_Customers']\n",
        "\n",
        "# Reset the index by converting the Party and Product into columns\n",
        "prod_cust_count.reset_index(inplace=True)"
      ],
      "execution_count": 6,
      "outputs": []
    },
    {
      "cell_type": "markdown",
      "metadata": {
        "id": "9ie9SmoYtyC3"
      },
      "source": [
        "**Merge the unique customer count and qty purchased of each product**"
      ]
    },
    {
      "cell_type": "code",
      "metadata": {
        "colab": {
          "base_uri": "https://localhost:8080/"
        },
        "id": "em13zfL0tyZB",
        "outputId": "4c1dee47-f74f-495e-f024-95fa47f2044e"
      },
      "source": [
        "product_customer = pd.merge(prod_cust_qty , prod_cust_count,how='inner',on='Product')\n",
        "print(product_customer)"
      ],
      "execution_count": 9,
      "outputs": [
        {
          "output_type": "stream",
          "text": [
            "                   Product                Party  Qty  No_of_Customers\n",
            "0          1.25 COOLDRINKS   BRHAMADEVI SUDHEER    2                1\n",
            "1      10\" CLASSIFOAM-1200      BALAJI PLASTICS    1                8\n",
            "2      10\" CLASSIFOAM-1200  JAGADHAMBA PLASTICS    1                8\n",
            "3      10\" CLASSIFOAM-1200                  KNC   12                8\n",
            "4      10\" CLASSIFOAM-1200                  SMS   10                8\n",
            "...                    ...                  ...  ...              ...\n",
            "19722         ZEND-PREMIUM           SVP-BUCHHI   25               34\n",
            "19723         ZEND-PREMIUM  SWATHI PROVISIONS-B   10               34\n",
            "19724         ZEND-PREMIUM  T.SRINIVASULU(TST)-   35               34\n",
            "19725         ZEND-PREMIUM         TVT-CHITWELI   10               34\n",
            "19726         ZEND-PREMIUM  VENKATESWARA PROVIS    0               34\n",
            "\n",
            "[19727 rows x 4 columns]\n"
          ],
          "name": "stdout"
        }
      ]
    },
    {
      "cell_type": "markdown",
      "metadata": {
        "id": "yilphOl4t945"
      },
      "source": [
        "**# Creating a pivot table**"
      ]
    },
    {
      "cell_type": "code",
      "metadata": {
        "colab": {
          "base_uri": "https://localhost:8080/"
        },
        "id": "INDduHULt-NQ",
        "outputId": "fe4b288f-8064-4c8f-d8ca-07e652280a46"
      },
      "source": [
        "prod_cust_pivot = product_customer.pivot(index='Product',columns='Party',values='Qty').fillna(0)\n",
        "print(prod_cust_pivot)"
      ],
      "execution_count": 10,
      "outputs": [
        {
          "output_type": "stream",
          "text": [
            "Party                A.BHASKER-VGIRI  A.SRINIVASULU  ...  YVSR-VGIRI  YVT-PMR\n",
            "Product                                              ...                     \n",
            "1.25 COOLDRINKS                  0.0            0.0  ...         0.0      0.0\n",
            "10\" CLASSIFOAM-1200              0.0            0.0  ...         0.0      0.0\n",
            "10\" ESSFOAM LOOSE                0.0            0.0  ...         0.0      0.0\n",
            "10\" GREEN                        0.0            0.0  ...         0.0      0.0\n",
            "10\" SILVER HEAVY                 0.0            0.0  ...         0.0      0.0\n",
            "...                              ...            ...  ...         ...      ...\n",
            "ZEN-D CHEAP                      0.0            0.0  ...         0.0      0.0\n",
            "ZEN-REALPACK                     0.0            0.0  ...         0.0      0.0\n",
            "ZEND-1ST                         0.0          100.0  ...         0.0      0.0\n",
            "ZEND-CLASSIC                     0.0            0.0  ...         0.0      0.0\n",
            "ZEND-PREMIUM                     0.0           25.0  ...         0.0      0.0\n",
            "\n",
            "[866 rows x 712 columns]\n"
          ],
          "name": "stdout"
        }
      ]
    },
    {
      "cell_type": "markdown",
      "metadata": {
        "id": "kGR4nySXu7Tb"
      },
      "source": [
        "## Finding the correlation between every two customers and build a correlation matrix using corr method"
      ]
    },
    {
      "cell_type": "code",
      "metadata": {
        "colab": {
          "base_uri": "https://localhost:8080/"
        },
        "id": "z0VMCkexu7wc",
        "outputId": "4988f759-b2cb-422f-877b-cf1851e2b1bb"
      },
      "source": [
        "# Spearman correlation\n",
        "cust_correlation = prod_cust_pivot.corr(method='spearman',min_periods=5)\n",
        "\n",
        "print(cust_correlation.head(10))"
      ],
      "execution_count": 11,
      "outputs": [
        {
          "output_type": "stream",
          "text": [
            "Party                A.BHASKER-VGIRI  A.SRINIVASULU  ...  YVSR-VGIRI   YVT-PMR\n",
            "Party                                                ...                      \n",
            "A.BHASKER-VGIRI             1.000000       0.179402  ...    0.284983  0.516661\n",
            "A.SRINIVASULU               0.179402       1.000000  ...    0.108637  0.227009\n",
            "A.SRINIVASULU-SPT           0.290165       0.220971  ...    0.172154  0.229613\n",
            "A.VENKATESWARLU-VB          0.189122       0.099051  ...   -0.012377 -0.008717\n",
            "A1 PLASTICS-SPT             0.215235       0.304534  ...    0.064035  0.165050\n",
            "ABC                         0.224988       0.192544  ...   -0.031711  0.035299\n",
            "ACK                         0.164702       0.146889  ...   -0.027071  0.043792\n",
            "ACR-PDKR                    0.129353      -0.014816  ...    0.053074  0.086059\n",
            "ADHI CHIKENSTALL-GD        -0.005939      -0.015741  ...   -0.006167 -0.004343\n",
            "AFOOZO PRIVATE LIMI         0.165958       0.004057  ...   -0.013854 -0.009757\n",
            "\n",
            "[10 rows x 712 columns]\n"
          ],
          "name": "stdout"
        }
      ]
    },
    {
      "cell_type": "markdown",
      "metadata": {
        "id": "jMNFhNhpw1op"
      },
      "source": [
        "**Store to CSV and Pickle file**"
      ]
    },
    {
      "cell_type": "code",
      "metadata": {
        "id": "LePdXYf6w15f"
      },
      "source": [
        "cust_correlation.to_csv('Customer-Customer-Correlation-Matrix.csv')\n",
        "\n",
        "import pickle\n",
        "pickle.dump(cust_correlation, open('cust_correlation_model.pkl','wb'))\n"
      ],
      "execution_count": 13,
      "outputs": []
    },
    {
      "cell_type": "markdown",
      "metadata": {
        "id": "mnrFudHZxAV3"
      },
      "source": [
        "# using Item-Item based recommendation\n",
        "### Building Correlation Matrix for the Product and Customer relations "
      ]
    },
    {
      "cell_type": "code",
      "metadata": {
        "colab": {
          "base_uri": "https://localhost:8080/"
        },
        "id": "5PX6k0HpxAvf",
        "outputId": "5f48f8d4-3ceb-4c9d-e689-234176e90416"
      },
      "source": [
        "# Find the total qty purchased by each customer of each product\n",
        "prod_cust_qty = data.groupby(['Product','Party']).agg({'Qty':'sum'})\n",
        "\n",
        "# Reset the index by converting the Party and Product into columns\n",
        "prod_cust_qty.reset_index(inplace=True)\n",
        "\n",
        "\n",
        "# Find the no of unique customers purchased each product\n",
        "prod_cust_count = data.groupby(['Product']).agg({'Party':'nunique'})\n",
        "\n",
        "# Set the customer count column\n",
        "prod_cust_count.columns=['No_of_Customers']\n",
        "\n",
        "# Reset the index by converting the Party and Product into columns\n",
        "prod_cust_count.reset_index(inplace=True)\n",
        "\n",
        "\n",
        "# Merge the unique customer count and qty purchased of each product\n",
        "prod_cust = pd.merge(prod_cust_qty , prod_cust_count,how='inner',on='Product')\n",
        "print(prod_cust)\n",
        "\n",
        "# Create a pivot table with all Products on columns and Customers on rows, and Qty as values\n",
        "prod_cust_pivot = prod_cust.pivot(index='Party',columns='Product',values='Qty').fillna(0)\n",
        "print(prod_cust_pivot)"
      ],
      "execution_count": 14,
      "outputs": [
        {
          "output_type": "stream",
          "text": [
            "                   Product                Party  Qty  No_of_Customers\n",
            "0          1.25 COOLDRINKS   BRHAMADEVI SUDHEER    2                1\n",
            "1      10\" CLASSIFOAM-1200      BALAJI PLASTICS    1                8\n",
            "2      10\" CLASSIFOAM-1200  JAGADHAMBA PLASTICS    1                8\n",
            "3      10\" CLASSIFOAM-1200                  KNC   12                8\n",
            "4      10\" CLASSIFOAM-1200                  SMS   10                8\n",
            "...                    ...                  ...  ...              ...\n",
            "19722         ZEND-PREMIUM           SVP-BUCHHI   25               34\n",
            "19723         ZEND-PREMIUM  SWATHI PROVISIONS-B   10               34\n",
            "19724         ZEND-PREMIUM  T.SRINIVASULU(TST)-   35               34\n",
            "19725         ZEND-PREMIUM         TVT-CHITWELI   10               34\n",
            "19726         ZEND-PREMIUM  VENKATESWARA PROVIS    0               34\n",
            "\n",
            "[19727 rows x 4 columns]\n",
            "Product              1.25 COOLDRINKS  ...  ZEND-PREMIUM\n",
            "Party                                 ...              \n",
            "A.BHASKER-VGIRI                  0.0  ...           0.0\n",
            "A.SRINIVASULU                    0.0  ...          25.0\n",
            "A.SRINIVASULU-SPT                0.0  ...           0.0\n",
            "A.VENKATESWARLU-VB               0.0  ...           0.0\n",
            "A1 PLASTICS-SPT                  0.0  ...           0.0\n",
            "...                              ...  ...           ...\n",
            "Y.SIDHYYA-TALUPURU               0.0  ...           0.0\n",
            "YUVARAJ PLASTICS-AN              0.0  ...           0.0\n",
            "YVSR-ALURU                       0.0  ...           0.0\n",
            "YVSR-VGIRI                       0.0  ...           0.0\n",
            "YVT-PMR                          0.0  ...           0.0\n",
            "\n",
            "[712 rows x 866 columns]\n"
          ],
          "name": "stdout"
        }
      ]
    },
    {
      "cell_type": "markdown",
      "metadata": {
        "id": "0ERz5sBCxnMB"
      },
      "source": [
        "## Finding the correlation between every two products and build a correlation matrix using corr method"
      ]
    },
    {
      "cell_type": "code",
      "metadata": {
        "colab": {
          "base_uri": "https://localhost:8080/"
        },
        "id": "DqloCV1Yxnjh",
        "outputId": "e696552d-7804-443e-cf05-1bd6a7ea9b81"
      },
      "source": [
        "## Spearman correlation\n",
        "prod_correlation = prod_cust_pivot.corr(method='spearman',min_periods=5)\n",
        "print(prod_correlation.head(10))"
      ],
      "execution_count": 15,
      "outputs": [
        {
          "output_type": "stream",
          "text": [
            "Product              1.25 COOLDRINKS  ...  ZEND-PREMIUM\n",
            "Product                               ...              \n",
            "1.25 COOLDRINKS             1.000000  ...     -0.008265\n",
            "10\" CLASSIFOAM-1200        -0.003998  ...      0.039953\n",
            "10\" ESSFOAM LOOSE          -0.001990  ...     -0.011696\n",
            "10\" GREEN                  -0.001406  ...     -0.008265\n",
            "10\" SILVER HEAVY           -0.001406  ...     -0.008265\n",
            "10\" THERMOCOL PRINT        -0.001990  ...      0.114659\n",
            "10*10 CITIZEN               0.375827  ...      0.046676\n",
            "10*10 DHAVAT               -0.002440  ...      0.089773\n",
            "10*10 JANATHA              -0.001406  ...     -0.008265\n",
            "10*10 MORE                  0.151802  ...      0.080424\n",
            "\n",
            "[10 rows x 866 columns]\n"
          ],
          "name": "stdout"
        }
      ]
    },
    {
      "cell_type": "markdown",
      "metadata": {
        "id": "0YxJHP2_x9Ay"
      },
      "source": [
        "**Store to CSV and Pickle file**"
      ]
    },
    {
      "cell_type": "code",
      "metadata": {
        "id": "MNWKH8s3xrdo"
      },
      "source": [
        "# To Csv file\n",
        "prod_correlation.to_csv('Product-Product-Correlation-Matrix.csv')\n",
        "\n",
        "#To Pickle File\n",
        "pickle.dump(prod_correlation, open('prod_correlation_model.pkl','wb'))\n"
      ],
      "execution_count": 16,
      "outputs": []
    }
  ]
}