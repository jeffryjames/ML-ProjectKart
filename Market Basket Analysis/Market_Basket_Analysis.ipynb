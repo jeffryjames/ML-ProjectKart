{
  "nbformat": 4,
  "nbformat_minor": 0,
  "metadata": {
    "colab": {
      "name": "Market Basket Analysis.ipynb",
      "provenance": [],
      "collapsed_sections": [
        "HYaCLaYy4oTF",
        "Z9GbepfA46xA"
      ]
    },
    "kernelspec": {
      "name": "python3",
      "display_name": "Python 3"
    },
    "language_info": {
      "name": "python"
    }
  },
  "cells": [
    {
      "cell_type": "markdown",
      "metadata": {
        "id": "HYaCLaYy4oTF"
      },
      "source": [
        "## Import Data"
      ]
    },
    {
      "cell_type": "code",
      "metadata": {
        "colab": {
          "base_uri": "https://localhost:8080/"
        },
        "id": "pV9-Bwq83pJD",
        "outputId": "97cbc780-348f-4e83-fa33-1ab728521722"
      },
      "source": [
        "import pandas as pd\n",
        "\n",
        "data_2017 = pd.read_csv(\"/content/Sales Transactions-2017.csv\")\n",
        "print(data_2017)\n",
        "data_2018 = pd.read_csv(\"/content/Sales Transactions-2018.csv\")\n",
        "print(data_2018)\n",
        "data_2019 = pd.read_csv(\"/content/Sales Transactions-2019.csv\")\n",
        "print(data_2019)\n"
      ],
      "execution_count": 1,
      "outputs": [
        {
          "output_type": "stream",
          "text": [
            "             Date    Voucher  ...        Disc  Voucher Amount\n",
            "0        1/4/2017      Sal:1  ...         NaN       13,100.00\n",
            "1        1/4/2017      Sal:1  ...         NaN             NaN\n",
            "2        1/4/2017      Sal:2  ...         NaN       30,990.00\n",
            "3        1/4/2017      Sal:2  ...         NaN             NaN\n",
            "4        1/4/2017      Sal:2  ...         NaN             NaN\n",
            "...           ...        ...  ...         ...             ...\n",
            "47285  31/03/2018  Sal:10042  ...         NaN        3,425.00\n",
            "47286         NaN        NaN  ...         NaN             NaN\n",
            "47287         NaN        NaN  ...         NaN             NaN\n",
            "47288         NaN    Total    ...  106,607.00    9,868,583.13\n",
            "47289         NaN    Total    ...  936,348.00  115,105,123.71\n",
            "\n",
            "[47290 rows x 9 columns]\n",
            "             Date   Voucher  ...        Disc  Voucher Amount\n",
            "0        1/4/2018   Sal:146  ...         NaN       66,724.00\n",
            "1        1/4/2018   Sal:146  ...         NaN             NaN\n",
            "2        1/4/2018   Sal:146  ...         NaN             NaN\n",
            "3        1/4/2018   Sal:146  ...         NaN             NaN\n",
            "4        1/4/2018   Sal:146  ...         NaN             NaN\n",
            "...           ...       ...  ...         ...             ...\n",
            "44735  31/03/2019  Sal:9610  ...         NaN             NaN\n",
            "44736         NaN       NaN  ...         NaN             NaN\n",
            "44737         NaN       NaN  ...         NaN             NaN\n",
            "44738         NaN   Total    ...   29,999.00   10,787,647.30\n",
            "44739         NaN   Total    ...  720,204.00  117,427,983.80\n",
            "\n",
            "[44740 rows x 9 columns]\n",
            "             Date   Voucher  ...        Disc Voucher Amount\n",
            "0        1/4/2019   Sal:687  ...         NaN       3,460.00\n",
            "1        1/4/2019   Sal:687  ...         NaN            NaN\n",
            "2        1/4/2019   Sal:688  ...         NaN       2,035.00\n",
            "3                            ...                           \n",
            "4        1/4/2019   Sal:689  ...         NaN       1,755.00\n",
            "...           ...       ...  ...         ...            ...\n",
            "19171  10/10/2019  Sal:4935  ...         NaN            NaN\n",
            "19172         NaN       NaN  ...         NaN            NaN\n",
            "19173         NaN       NaN  ...         NaN            NaN\n",
            "19174         NaN   Total    ...   20,680.00   2,189,014.50\n",
            "19175         NaN   Total    ...  672,984.00  52,830,224.40\n",
            "\n",
            "[19176 rows x 9 columns]\n"
          ],
          "name": "stdout"
        }
      ]
    },
    {
      "cell_type": "markdown",
      "metadata": {
        "id": "Z9GbepfA46xA"
      },
      "source": [
        "## Data Cleaning"
      ]
    },
    {
      "cell_type": "code",
      "metadata": {
        "colab": {
          "base_uri": "https://localhost:8080/"
        },
        "id": "kifhzsYR47Tw",
        "outputId": "7ae56558-e2d1-499a-da92-89056357e84b"
      },
      "source": [
        "\n",
        "data = pd.concat([data_2017, data_2018, data_2019], ignore_index=True, sort=False)\n",
        "print(data)\n",
        "\n",
        "data = data.drop(columns=['Gross','Disc','Voucher Amount'],axis=1)\n",
        "print(data)\n",
        "\n",
        "data = data[data['Date'] != ' '].dropna(subset=['Date'])\n",
        "print(data)\n",
        "\n",
        "data['Date'] = pd.to_datetime(data['Date'], dayfirst=True)\n",
        "print(data['Date'])\n",
        "\n",
        "data['Voucher'] = data['Voucher'].str.slice(start=4, stop=None, step=1).astype(int)\n",
        "print(data['Voucher'])\n",
        "\n",
        "data['Party'] = data['Party'].str.upper()\n",
        "data['Product'] = data['Product'].str.upper()\n",
        "\n",
        "print(data['Party'])\n",
        "print(data['Product'])\n",
        "\n"
      ],
      "execution_count": 2,
      "outputs": [
        {
          "output_type": "stream",
          "text": [
            "              Date   Voucher  ...        Disc Voucher Amount\n",
            "0         1/4/2017     Sal:1  ...         NaN      13,100.00\n",
            "1         1/4/2017     Sal:1  ...         NaN            NaN\n",
            "2         1/4/2017     Sal:2  ...         NaN      30,990.00\n",
            "3         1/4/2017     Sal:2  ...         NaN            NaN\n",
            "4         1/4/2017     Sal:2  ...         NaN            NaN\n",
            "...            ...       ...  ...         ...            ...\n",
            "111201  10/10/2019  Sal:4935  ...         NaN            NaN\n",
            "111202         NaN       NaN  ...         NaN            NaN\n",
            "111203         NaN       NaN  ...         NaN            NaN\n",
            "111204         NaN   Total    ...   20,680.00   2,189,014.50\n",
            "111205         NaN   Total    ...  672,984.00  52,830,224.40\n",
            "\n",
            "[111206 rows x 9 columns]\n",
            "              Date   Voucher  ...           Qty          Rate\n",
            "0         1/4/2017     Sal:1  ...             2      1,690.00\n",
            "1         1/4/2017     Sal:1  ...             6      1,620.00\n",
            "2         1/4/2017     Sal:2  ...           500            23\n",
            "3         1/4/2017     Sal:2  ...             6      1,620.00\n",
            "4         1/4/2017     Sal:2  ...             5      1,690.00\n",
            "...            ...       ...  ...           ...           ...\n",
            "111201  10/10/2019  Sal:4935  ...           400            16\n",
            "111202         NaN       NaN  ...           NaN           NaN\n",
            "111203         NaN       NaN  ...           NaN           NaN\n",
            "111204         NaN   Total    ...     99,284.90    175,381.65\n",
            "111205         NaN   Total    ...  2,710,193.00  5,519,888.40\n",
            "\n",
            "[111206 rows x 6 columns]\n",
            "              Date   Voucher  ...  Qty      Rate\n",
            "0         1/4/2017     Sal:1  ...    2  1,690.00\n",
            "1         1/4/2017     Sal:1  ...    6  1,620.00\n",
            "2         1/4/2017     Sal:2  ...  500        23\n",
            "3         1/4/2017     Sal:2  ...    6  1,620.00\n",
            "4         1/4/2017     Sal:2  ...    5  1,690.00\n",
            "...            ...       ...  ...  ...       ...\n",
            "111197  10/10/2019  Sal:4935  ...  140        26\n",
            "111198  10/10/2019  Sal:4935  ...  600       8.4\n",
            "111199  10/10/2019  Sal:4935  ...  320        16\n",
            "111200  10/10/2019  Sal:4935  ...  800       8.5\n",
            "111201  10/10/2019  Sal:4935  ...  400        16\n",
            "\n",
            "[95562 rows x 6 columns]\n",
            "0        2017-04-01\n",
            "1        2017-04-01\n",
            "2        2017-04-01\n",
            "3        2017-04-01\n",
            "4        2017-04-01\n",
            "            ...    \n",
            "111197   2019-10-10\n",
            "111198   2019-10-10\n",
            "111199   2019-10-10\n",
            "111200   2019-10-10\n",
            "111201   2019-10-10\n",
            "Name: Date, Length: 95562, dtype: datetime64[ns]\n",
            "0            1\n",
            "1            1\n",
            "2            2\n",
            "3            2\n",
            "4            2\n",
            "          ... \n",
            "111197    4935\n",
            "111198    4935\n",
            "111199    4935\n",
            "111200    4935\n",
            "111201    4935\n",
            "Name: Voucher, Length: 95562, dtype: int64\n",
            "0           SOLANKI PLASTICS\n",
            "1           SOLANKI PLASTICS\n",
            "2         SARNESWARA TRADERS\n",
            "3         SARNESWARA TRADERS\n",
            "4         SARNESWARA TRADERS\n",
            "                 ...        \n",
            "111197             K.SRIHARI\n",
            "111198             K.SRIHARI\n",
            "111199             K.SRIHARI\n",
            "111200             K.SRIHARI\n",
            "111201             K.SRIHARI\n",
            "Name: Party, Length: 95562, dtype: object\n",
            "0               DONA-VAI-9100\n",
            "1             LITE FOAM(1200)\n",
            "2           VISHNU CHOTA WINE\n",
            "3             LITE FOAM(1200)\n",
            "4               DONA-VAI-9100\n",
            "                 ...         \n",
            "111197           16*20(100-W)\n",
            "111198    10*12 KRISHNA-BK(10\n",
            "111199    13*16 BK(100)KRISHN\n",
            "111200               10*12 RK\n",
            "111201         13*16 WHITE RK\n",
            "Name: Product, Length: 95562, dtype: object\n"
          ],
          "name": "stdout"
        }
      ]
    },
    {
      "cell_type": "markdown",
      "metadata": {
        "id": "Z9NrW2D95TBN"
      },
      "source": [
        "Convert the Qty column into an integer"
      ]
    },
    {
      "cell_type": "code",
      "metadata": {
        "colab": {
          "base_uri": "https://localhost:8080/"
        },
        "id": "WCsnUlZe5TaN",
        "outputId": "a701f385-c669-4464-d6df-91921b78de1f"
      },
      "source": [
        "# converting the entries with ',' and '.00' to integers only\n",
        "\n",
        "data['Qty'] = data['Qty'].str.replace(',','').astype(float).astype(int)\n",
        "print(data['Qty'])"
      ],
      "execution_count": 3,
      "outputs": [
        {
          "output_type": "stream",
          "text": [
            "0           2\n",
            "1           6\n",
            "2         500\n",
            "3           6\n",
            "4           5\n",
            "         ... \n",
            "111197    140\n",
            "111198    600\n",
            "111199    320\n",
            "111200    800\n",
            "111201    400\n",
            "Name: Qty, Length: 95562, dtype: int64\n"
          ],
          "name": "stdout"
        }
      ]
    },
    {
      "cell_type": "markdown",
      "metadata": {
        "id": "wXQTCASb5p_E"
      },
      "source": [
        "Eliminate ',' in the Rate column"
      ]
    },
    {
      "cell_type": "code",
      "metadata": {
        "colab": {
          "base_uri": "https://localhost:8080/"
        },
        "id": "ukuLdtg65qPt",
        "outputId": "39b8f03c-81d7-4788-bb2c-81e4740a6bb1"
      },
      "source": [
        "data['Rate'] = data['Rate'].str.replace(',','').astype(float)\n",
        "print(data['Rate'])"
      ],
      "execution_count": 4,
      "outputs": [
        {
          "output_type": "stream",
          "text": [
            "0         1690.0\n",
            "1         1620.0\n",
            "2           23.0\n",
            "3         1620.0\n",
            "4         1690.0\n",
            "           ...  \n",
            "111197      26.0\n",
            "111198       8.4\n",
            "111199      16.0\n",
            "111200       8.5\n",
            "111201      16.0\n",
            "Name: Rate, Length: 95562, dtype: float64\n"
          ],
          "name": "stdout"
        }
      ]
    },
    {
      "cell_type": "markdown",
      "metadata": {
        "id": "ipWFrz3w6Cxt"
      },
      "source": [
        "Sorting the Sales Transaction file in the order of Date and Voucher"
      ]
    },
    {
      "cell_type": "code",
      "metadata": {
        "colab": {
          "base_uri": "https://localhost:8080/"
        },
        "id": "j4uut4Ca6DD8",
        "outputId": "f60745f6-664e-482a-c09a-24fe7b727ce6"
      },
      "source": [
        "data = data.sort_values(['Date','Voucher'])\n",
        "print(data)"
      ],
      "execution_count": 5,
      "outputs": [
        {
          "output_type": "stream",
          "text": [
            "             Date  Voucher  ...  Qty    Rate\n",
            "0      2017-04-01        1  ...    2  1690.0\n",
            "1      2017-04-01        1  ...    6  1620.0\n",
            "2      2017-04-01        2  ...  500    23.0\n",
            "3      2017-04-01        2  ...    6  1620.0\n",
            "4      2017-04-01        2  ...    5  1690.0\n",
            "...           ...      ...  ...  ...     ...\n",
            "111197 2019-10-10     4935  ...  140    26.0\n",
            "111198 2019-10-10     4935  ...  600     8.4\n",
            "111199 2019-10-10     4935  ...  320    16.0\n",
            "111200 2019-10-10     4935  ...  800     8.5\n",
            "111201 2019-10-10     4935  ...  400    16.0\n",
            "\n",
            "[95562 rows x 6 columns]\n"
          ],
          "name": "stdout"
        }
      ]
    },
    {
      "cell_type": "markdown",
      "metadata": {
        "id": "-xWGj2KJ6Oyk"
      },
      "source": [
        "## Understanding the Data"
      ]
    },
    {
      "cell_type": "code",
      "metadata": {
        "id": "z8VHWVGYB9N9"
      },
      "source": [
        ""
      ],
      "execution_count": null,
      "outputs": []
    },
    {
      "cell_type": "code",
      "metadata": {
        "colab": {
          "base_uri": "https://localhost:8080/"
        },
        "id": "YpmxQmg46PEU",
        "outputId": "376aef7d-91c4-4a5f-c32c-e0daa065ddcf"
      },
      "source": [
        "print(data.shape)\n",
        "print(data.describe())\n",
        "print(data.info())"
      ],
      "execution_count": 11,
      "outputs": [
        {
          "output_type": "stream",
          "text": [
            "(95562, 6)\n",
            "            Voucher           Qty           Rate\n",
            "count  95562.000000  95562.000000   95561.000000\n",
            "mean    4469.104006    182.157657     249.612310\n",
            "std     2810.486250    725.256966    2013.475202\n",
            "min        1.000000      0.000000       0.010000\n",
            "25%     2047.000000     10.000000      16.000000\n",
            "50%     4186.500000     50.000000      28.000000\n",
            "75%     6854.000000    150.000000     140.000000\n",
            "max    10042.000000  35000.000000  200000.000000\n",
            "<class 'pandas.core.frame.DataFrame'>\n",
            "Int64Index: 95562 entries, 0 to 111201\n",
            "Data columns (total 6 columns):\n",
            " #   Column   Non-Null Count  Dtype         \n",
            "---  ------   --------------  -----         \n",
            " 0   Date     95562 non-null  datetime64[ns]\n",
            " 1   Voucher  95562 non-null  int64         \n",
            " 2   Party    95562 non-null  object        \n",
            " 3   Product  95562 non-null  object        \n",
            " 4   Qty      95562 non-null  int64         \n",
            " 5   Rate     95561 non-null  float64       \n",
            "dtypes: datetime64[ns](1), float64(1), int64(2), object(2)\n",
            "memory usage: 5.1+ MB\n",
            "None\n"
          ],
          "name": "stdout"
        }
      ]
    },
    {
      "cell_type": "markdown",
      "metadata": {
        "id": "ZnHZfa4o8Kcg"
      },
      "source": [
        "Top Selling Products :"
      ]
    },
    {
      "cell_type": "code",
      "metadata": {
        "colab": {
          "base_uri": "https://localhost:8080/"
        },
        "id": "PNxYd4cR8KxF",
        "outputId": "32ca3c5a-fb8d-4eaf-90bf-f41f8a65ddda"
      },
      "source": [
        "# Find the no of units sold of each product - to Find the unit price of each product max of price considered\n",
        "top_selling_items = data.groupby('Product').agg({'Qty':'sum', 'Rate':'max'})\n",
        "print(top_selling_items)\n",
        "\n",
        "# Reset the index by converting the Product into a column\n",
        "top_selling_items.reset_index(inplace=True)"
      ],
      "execution_count": 12,
      "outputs": [
        {
          "output_type": "stream",
          "text": [
            "                      Qty    Rate\n",
            "Product                          \n",
            "1.25 COOLDRINKS         2   670.0\n",
            "10\" CLASSIFOAM-1200    37  1680.0\n",
            "10\" ESSFOAM LOOSE     310    35.0\n",
            "10\" GREEN               8  1610.0\n",
            "10\" SILVER HEAVY       10    25.0\n",
            "...                   ...     ...\n",
            "ZEN-D CHEAP             7   120.0\n",
            "ZEN-REALPACK           63    90.0\n",
            "ZEND-1ST             1095   120.0\n",
            "ZEND-CLASSIC         1181   120.0\n",
            "ZEND-PREMIUM         1977   100.0\n",
            "\n",
            "[866 rows x 2 columns]\n"
          ],
          "name": "stdout"
        }
      ]
    },
    {
      "cell_type": "markdown",
      "metadata": {
        "id": "nJkxPkye9cOg"
      },
      "source": [
        "Rank the product by most Quantity sold"
      ]
    },
    {
      "cell_type": "code",
      "metadata": {
        "colab": {
          "base_uri": "https://localhost:8080/",
          "height": 357
        },
        "id": "ESOVGMTL9cjo",
        "outputId": "c2ece17a-5f65-4a7d-9184-6d86551f1536"
      },
      "source": [
        "top_selling_items['Top_Sell_Rank'] = top_selling_items['Qty'].rank(method='min',ascending=False).astype(int)\n",
        "\n",
        "# List the top 20 items sold\n",
        "top_selling_items.sort_values('Qty', ascending=False).head(10)"
      ],
      "execution_count": 14,
      "outputs": [
        {
          "output_type": "execute_result",
          "data": {
            "text/html": [
              "<div>\n",
              "<style scoped>\n",
              "    .dataframe tbody tr th:only-of-type {\n",
              "        vertical-align: middle;\n",
              "    }\n",
              "\n",
              "    .dataframe tbody tr th {\n",
              "        vertical-align: top;\n",
              "    }\n",
              "\n",
              "    .dataframe thead th {\n",
              "        text-align: right;\n",
              "    }\n",
              "</style>\n",
              "<table border=\"1\" class=\"dataframe\">\n",
              "  <thead>\n",
              "    <tr style=\"text-align: right;\">\n",
              "      <th></th>\n",
              "      <th>Product</th>\n",
              "      <th>Qty</th>\n",
              "      <th>Rate</th>\n",
              "      <th>Top_Sell_Rank</th>\n",
              "    </tr>\n",
              "  </thead>\n",
              "  <tbody>\n",
              "    <tr>\n",
              "      <th>91</th>\n",
              "      <td>14 GREEN</td>\n",
              "      <td>3474510</td>\n",
              "      <td>400.0</td>\n",
              "      <td>1</td>\n",
              "    </tr>\n",
              "    <tr>\n",
              "      <th>282</th>\n",
              "      <td>CYCLE-BLU-10*12</td>\n",
              "      <td>741675</td>\n",
              "      <td>7.1</td>\n",
              "      <td>2</td>\n",
              "    </tr>\n",
              "    <tr>\n",
              "      <th>177</th>\n",
              "      <td>500ML PLASTIC BOULS</td>\n",
              "      <td>587600</td>\n",
              "      <td>3.8</td>\n",
              "      <td>3</td>\n",
              "    </tr>\n",
              "    <tr>\n",
              "      <th>314</th>\n",
              "      <td>DURGA 10*12 BLUE</td>\n",
              "      <td>530384</td>\n",
              "      <td>110.0</td>\n",
              "      <td>4</td>\n",
              "    </tr>\n",
              "    <tr>\n",
              "      <th>43</th>\n",
              "      <td>10*12 SARAS-NAT</td>\n",
              "      <td>433630</td>\n",
              "      <td>81.0</td>\n",
              "      <td>5</td>\n",
              "    </tr>\n",
              "    <tr>\n",
              "      <th>279</th>\n",
              "      <td>CYCLE-BK-10*12</td>\n",
              "      <td>431060</td>\n",
              "      <td>13.0</td>\n",
              "      <td>6</td>\n",
              "    </tr>\n",
              "    <tr>\n",
              "      <th>842</th>\n",
              "      <td>VISHNU 250ML</td>\n",
              "      <td>400239</td>\n",
              "      <td>35.0</td>\n",
              "      <td>7</td>\n",
              "    </tr>\n",
              "    <tr>\n",
              "      <th>638</th>\n",
              "      <td>ROBO 10*12</td>\n",
              "      <td>353880</td>\n",
              "      <td>5.5</td>\n",
              "      <td>8</td>\n",
              "    </tr>\n",
              "    <tr>\n",
              "      <th>37</th>\n",
              "      <td>10*12 KRISHNA-BK(10</td>\n",
              "      <td>349720</td>\n",
              "      <td>15.0</td>\n",
              "      <td>9</td>\n",
              "    </tr>\n",
              "    <tr>\n",
              "      <th>824</th>\n",
              "      <td>TIRUMALA-50(13*16)</td>\n",
              "      <td>346776</td>\n",
              "      <td>28.0</td>\n",
              "      <td>10</td>\n",
              "    </tr>\n",
              "  </tbody>\n",
              "</table>\n",
              "</div>"
            ],
            "text/plain": [
              "                 Product      Qty   Rate  Top_Sell_Rank\n",
              "91              14 GREEN  3474510  400.0              1\n",
              "282      CYCLE-BLU-10*12   741675    7.1              2\n",
              "177  500ML PLASTIC BOULS   587600    3.8              3\n",
              "314     DURGA 10*12 BLUE   530384  110.0              4\n",
              "43       10*12 SARAS-NAT   433630   81.0              5\n",
              "279       CYCLE-BK-10*12   431060   13.0              6\n",
              "842         VISHNU 250ML   400239   35.0              7\n",
              "638           ROBO 10*12   353880    5.5              8\n",
              "37   10*12 KRISHNA-BK(10   349720   15.0              9\n",
              "824   TIRUMALA-50(13*16)   346776   28.0             10"
            ]
          },
          "metadata": {
            "tags": []
          },
          "execution_count": 14
        }
      ]
    },
    {
      "cell_type": "markdown",
      "metadata": {
        "id": "M3h88gbg9qia"
      },
      "source": [
        "**To Ignores the multiple no of orders created in a single day, Consider Date column instead of Voucher in counting the no of orders placed for a product.**"
      ]
    },
    {
      "cell_type": "code",
      "metadata": {
        "colab": {
          "base_uri": "https://localhost:8080/"
        },
        "id": "xyrqn0oA9q1E",
        "outputId": "df2711f4-2db4-44b0-b66e-f03140d81daf"
      },
      "source": [
        "# Remove duplicate records at Product, Date and Party level\n",
        "unique_items = data.drop_duplicates(['Product','Date','Party'])\n",
        "\n",
        "# Find the no of orders placed and the unique no of customers placed orders, of each product\n",
        "popular_items = unique_items.groupby('Product').agg({'Date':'count', 'Party':'nunique'})\n",
        "popular_items.columns=['No_of_Orders','No_of_Customers']\n",
        "\n",
        "# Reset the index by converting the Product into a column\n",
        "popular_items.reset_index(inplace=True)\n",
        "print(popular_items.head(10))"
      ],
      "execution_count": 15,
      "outputs": [
        {
          "output_type": "stream",
          "text": [
            "               Product  No_of_Orders  No_of_Customers\n",
            "0      1.25 COOLDRINKS             1                1\n",
            "1  10\" CLASSIFOAM-1200            24                8\n",
            "2    10\" ESSFOAM LOOSE             2                2\n",
            "3            10\" GREEN             1                1\n",
            "4     10\" SILVER HEAVY             1                1\n",
            "5  10\" THERMOCOL PRINT             2                2\n",
            "6        10*10 CITIZEN             9                7\n",
            "7         10*10 DHAVAT             7                3\n",
            "8        10*10 JANATHA             1                1\n",
            "9           10*10 MORE           193               46\n"
          ],
          "name": "stdout"
        }
      ]
    },
    {
      "cell_type": "markdown",
      "metadata": {
        "id": "6Pt_AOdV_BXE"
      },
      "source": [
        "# Find Popular Items\n",
        "### Products with high no of orders can be considered as most frequently purchased items\n",
        "To find the most popular items we include the number of customers purchased and provide more weightage to products purchased by more customers\n",
        "\n",
        "### Weighted No of Orders (W) = O * (C / M) "
      ]
    },
    {
      "cell_type": "code",
      "metadata": {
        "colab": {
          "base_uri": "https://localhost:8080/"
        },
        "id": "-vlXwlVA_ByS",
        "outputId": "04b77460-0bd0-411d-e44c-a58d3250e968"
      },
      "source": [
        "# No_of_Orders - O\n",
        "Orders = popular_items['No_of_Orders']\n",
        "\n",
        "# No_of_Customers purchased the product - C\n",
        "\n",
        "Customers_Purchased = popular_items['No_of_Customers']\n",
        "\n",
        "# Maximum no of customers made transactions in the entire period - M\n",
        "Max_cust = popular_items['No_of_Customers'].max()\n",
        "\n",
        "popular_items['Weighted_No_of_Orders'] = Orders * (Customers_Purchased / Max_cust)\n",
        "print(popular_items)"
      ],
      "execution_count": 16,
      "outputs": [
        {
          "output_type": "stream",
          "text": [
            "                 Product  No_of_Orders  No_of_Customers  Weighted_No_of_Orders\n",
            "0        1.25 COOLDRINKS             1                1               0.004098\n",
            "1    10\" CLASSIFOAM-1200            24                8               0.786885\n",
            "2      10\" ESSFOAM LOOSE             2                2               0.016393\n",
            "3              10\" GREEN             1                1               0.004098\n",
            "4       10\" SILVER HEAVY             1                1               0.004098\n",
            "..                   ...           ...              ...                    ...\n",
            "861          ZEN-D CHEAP             2                2               0.016393\n",
            "862         ZEN-REALPACK             6                5               0.122951\n",
            "863             ZEND-1ST            56               27               6.196721\n",
            "864         ZEND-CLASSIC            35                9               1.290984\n",
            "865         ZEND-PREMIUM            64               34               8.918033\n",
            "\n",
            "[866 rows x 4 columns]\n"
          ],
          "name": "stdout"
        }
      ]
    },
    {
      "cell_type": "markdown",
      "metadata": {
        "id": "p6YaOqiL_-hk"
      },
      "source": [
        "Finding Rank of the product by weighted no of orders"
      ]
    },
    {
      "cell_type": "code",
      "metadata": {
        "colab": {
          "base_uri": "https://localhost:8080/",
          "height": 357
        },
        "id": "2JPBw1iy_-28",
        "outputId": "16e461c9-6748-4257-c5ae-bb37644dd564"
      },
      "source": [
        "popular_items['Popularity_Rank'] = popular_items['Weighted_No_of_Orders'].rank(method='min',ascending=False).astype(int)\n",
        "\n",
        "# List of top 20 most popular items sold\n",
        "popular_items.sort_values('Popularity_Rank',ascending=True).head(10)"
      ],
      "execution_count": 17,
      "outputs": [
        {
          "output_type": "execute_result",
          "data": {
            "text/html": [
              "<div>\n",
              "<style scoped>\n",
              "    .dataframe tbody tr th:only-of-type {\n",
              "        vertical-align: middle;\n",
              "    }\n",
              "\n",
              "    .dataframe tbody tr th {\n",
              "        vertical-align: top;\n",
              "    }\n",
              "\n",
              "    .dataframe thead th {\n",
              "        text-align: right;\n",
              "    }\n",
              "</style>\n",
              "<table border=\"1\" class=\"dataframe\">\n",
              "  <thead>\n",
              "    <tr style=\"text-align: right;\">\n",
              "      <th></th>\n",
              "      <th>Product</th>\n",
              "      <th>No_of_Orders</th>\n",
              "      <th>No_of_Customers</th>\n",
              "      <th>Weighted_No_of_Orders</th>\n",
              "      <th>Popularity_Rank</th>\n",
              "    </tr>\n",
              "  </thead>\n",
              "  <tbody>\n",
              "    <tr>\n",
              "      <th>91</th>\n",
              "      <td>14 GREEN</td>\n",
              "      <td>2365</td>\n",
              "      <td>244</td>\n",
              "      <td>2365.000000</td>\n",
              "      <td>1</td>\n",
              "    </tr>\n",
              "    <tr>\n",
              "      <th>825</th>\n",
              "      <td>TIRUMALA-50(16*20)</td>\n",
              "      <td>2123</td>\n",
              "      <td>224</td>\n",
              "      <td>1948.983607</td>\n",
              "      <td>2</td>\n",
              "    </tr>\n",
              "    <tr>\n",
              "      <th>238</th>\n",
              "      <td>BLACK DOG-350ML</td>\n",
              "      <td>1945</td>\n",
              "      <td>206</td>\n",
              "      <td>1642.090164</td>\n",
              "      <td>3</td>\n",
              "    </tr>\n",
              "    <tr>\n",
              "      <th>223</th>\n",
              "      <td>APPLE WATER</td>\n",
              "      <td>1853</td>\n",
              "      <td>203</td>\n",
              "      <td>1541.635246</td>\n",
              "      <td>4</td>\n",
              "    </tr>\n",
              "    <tr>\n",
              "      <th>843</th>\n",
              "      <td>VISHNU 300ML</td>\n",
              "      <td>2060</td>\n",
              "      <td>160</td>\n",
              "      <td>1350.819672</td>\n",
              "      <td>5</td>\n",
              "    </tr>\n",
              "    <tr>\n",
              "      <th>842</th>\n",
              "      <td>VISHNU 250ML</td>\n",
              "      <td>1962</td>\n",
              "      <td>166</td>\n",
              "      <td>1334.803279</td>\n",
              "      <td>6</td>\n",
              "    </tr>\n",
              "    <tr>\n",
              "      <th>19</th>\n",
              "      <td>10*10 TEJA</td>\n",
              "      <td>1454</td>\n",
              "      <td>184</td>\n",
              "      <td>1096.459016</td>\n",
              "      <td>7</td>\n",
              "    </tr>\n",
              "    <tr>\n",
              "      <th>230</th>\n",
              "      <td>BAHUBALI WINE</td>\n",
              "      <td>1468</td>\n",
              "      <td>181</td>\n",
              "      <td>1088.967213</td>\n",
              "      <td>8</td>\n",
              "    </tr>\n",
              "    <tr>\n",
              "      <th>824</th>\n",
              "      <td>TIRUMALA-50(13*16)</td>\n",
              "      <td>1491</td>\n",
              "      <td>176</td>\n",
              "      <td>1075.475410</td>\n",
              "      <td>9</td>\n",
              "    </tr>\n",
              "    <tr>\n",
              "      <th>465</th>\n",
              "      <td>NO-1</td>\n",
              "      <td>1178</td>\n",
              "      <td>195</td>\n",
              "      <td>941.434426</td>\n",
              "      <td>10</td>\n",
              "    </tr>\n",
              "  </tbody>\n",
              "</table>\n",
              "</div>"
            ],
            "text/plain": [
              "                Product  No_of_Orders  ...  Weighted_No_of_Orders  Popularity_Rank\n",
              "91             14 GREEN          2365  ...            2365.000000                1\n",
              "825  TIRUMALA-50(16*20)          2123  ...            1948.983607                2\n",
              "238     BLACK DOG-350ML          1945  ...            1642.090164                3\n",
              "223         APPLE WATER          1853  ...            1541.635246                4\n",
              "843        VISHNU 300ML          2060  ...            1350.819672                5\n",
              "842        VISHNU 250ML          1962  ...            1334.803279                6\n",
              "19           10*10 TEJA          1454  ...            1096.459016                7\n",
              "230       BAHUBALI WINE          1468  ...            1088.967213                8\n",
              "824  TIRUMALA-50(13*16)          1491  ...            1075.475410                9\n",
              "465                NO-1          1178  ...             941.434426               10\n",
              "\n",
              "[10 rows x 5 columns]"
            ]
          },
          "metadata": {
            "tags": []
          },
          "execution_count": 17
        }
      ]
    },
    {
      "cell_type": "markdown",
      "metadata": {
        "id": "4_BYrS_CAUY9"
      },
      "source": [
        "### Merge Top Selling Items Rank and Popularity Rank dataframes"
      ]
    },
    {
      "cell_type": "code",
      "metadata": {
        "colab": {
          "base_uri": "https://localhost:8080/"
        },
        "id": "ymuo8GUyAUss",
        "outputId": "717d3161-6c2f-46d6-f90b-31d6d9441646"
      },
      "source": [
        "\n",
        "product_rankings = pd.merge( top_selling_items, popular_items, how='inner', on='Product')\n",
        "print(product_rankings)\n",
        "\n",
        "# Getting only the Product, Price and Rank columns\n",
        "product_rankings = product_rankings[['Product','Rate','Top_Sell_Rank','Popularity_Rank']]\n",
        "print(product_rankings)\n"
      ],
      "execution_count": 21,
      "outputs": [
        {
          "output_type": "stream",
          "text": [
            "                 Product   Qty  ...  Weighted_No_of_Orders  Popularity_Rank\n",
            "0        1.25 COOLDRINKS     2  ...               0.004098              732\n",
            "1    10\" CLASSIFOAM-1200    37  ...               0.786885              416\n",
            "2      10\" ESSFOAM LOOSE   310  ...               0.016393              655\n",
            "3              10\" GREEN     8  ...               0.004098              732\n",
            "4       10\" SILVER HEAVY    10  ...               0.004098              732\n",
            "..                   ...   ...  ...                    ...              ...\n",
            "861          ZEN-D CHEAP     7  ...               0.016393              655\n",
            "862         ZEN-REALPACK    63  ...               0.122951              552\n",
            "863             ZEND-1ST  1095  ...               6.196721              245\n",
            "864         ZEND-CLASSIC  1181  ...               1.290984              366\n",
            "865         ZEND-PREMIUM  1977  ...               8.918033              219\n",
            "\n",
            "[866 rows x 8 columns]\n",
            "                 Product    Rate  Top_Sell_Rank  Popularity_Rank\n",
            "0        1.25 COOLDRINKS   670.0            834              732\n",
            "1    10\" CLASSIFOAM-1200  1680.0            709              416\n",
            "2      10\" ESSFOAM LOOSE    35.0            501              655\n",
            "3              10\" GREEN  1610.0            794              732\n",
            "4       10\" SILVER HEAVY    25.0            774              732\n",
            "..                   ...     ...            ...              ...\n",
            "861          ZEN-D CHEAP   120.0            795              655\n",
            "862         ZEN-REALPACK    90.0            655              552\n",
            "863             ZEND-1ST   120.0            346              245\n",
            "864         ZEND-CLASSIC   120.0            336              366\n",
            "865         ZEND-PREMIUM   100.0            279              219\n",
            "\n",
            "[866 rows x 4 columns]\n"
          ],
          "name": "stdout"
        }
      ]
    },
    {
      "cell_type": "markdown",
      "metadata": {
        "id": "SxwIRVHoA_sy"
      },
      "source": [
        "List the Product Rankings"
      ]
    },
    {
      "cell_type": "code",
      "metadata": {
        "colab": {
          "base_uri": "https://localhost:8080/",
          "height": 357
        },
        "id": "dwLGbgQdA3hz",
        "outputId": "8b67e761-31b0-4bcb-d329-1587b0a8af02"
      },
      "source": [
        "product_rankings.sort_values('Popularity_Rank',ascending=True).head(10)"
      ],
      "execution_count": 23,
      "outputs": [
        {
          "output_type": "execute_result",
          "data": {
            "text/html": [
              "<div>\n",
              "<style scoped>\n",
              "    .dataframe tbody tr th:only-of-type {\n",
              "        vertical-align: middle;\n",
              "    }\n",
              "\n",
              "    .dataframe tbody tr th {\n",
              "        vertical-align: top;\n",
              "    }\n",
              "\n",
              "    .dataframe thead th {\n",
              "        text-align: right;\n",
              "    }\n",
              "</style>\n",
              "<table border=\"1\" class=\"dataframe\">\n",
              "  <thead>\n",
              "    <tr style=\"text-align: right;\">\n",
              "      <th></th>\n",
              "      <th>Product</th>\n",
              "      <th>Rate</th>\n",
              "      <th>Top_Sell_Rank</th>\n",
              "      <th>Popularity_Rank</th>\n",
              "    </tr>\n",
              "  </thead>\n",
              "  <tbody>\n",
              "    <tr>\n",
              "      <th>91</th>\n",
              "      <td>14 GREEN</td>\n",
              "      <td>400.0</td>\n",
              "      <td>1</td>\n",
              "      <td>1</td>\n",
              "    </tr>\n",
              "    <tr>\n",
              "      <th>825</th>\n",
              "      <td>TIRUMALA-50(16*20)</td>\n",
              "      <td>30.0</td>\n",
              "      <td>19</td>\n",
              "      <td>2</td>\n",
              "    </tr>\n",
              "    <tr>\n",
              "      <th>238</th>\n",
              "      <td>BLACK DOG-350ML</td>\n",
              "      <td>33.0</td>\n",
              "      <td>15</td>\n",
              "      <td>3</td>\n",
              "    </tr>\n",
              "    <tr>\n",
              "      <th>223</th>\n",
              "      <td>APPLE WATER</td>\n",
              "      <td>29.0</td>\n",
              "      <td>11</td>\n",
              "      <td>4</td>\n",
              "    </tr>\n",
              "    <tr>\n",
              "      <th>843</th>\n",
              "      <td>VISHNU 300ML</td>\n",
              "      <td>50.0</td>\n",
              "      <td>16</td>\n",
              "      <td>5</td>\n",
              "    </tr>\n",
              "    <tr>\n",
              "      <th>842</th>\n",
              "      <td>VISHNU 250ML</td>\n",
              "      <td>35.0</td>\n",
              "      <td>7</td>\n",
              "      <td>6</td>\n",
              "    </tr>\n",
              "    <tr>\n",
              "      <th>19</th>\n",
              "      <td>10*10 TEJA</td>\n",
              "      <td>142.0</td>\n",
              "      <td>64</td>\n",
              "      <td>7</td>\n",
              "    </tr>\n",
              "    <tr>\n",
              "      <th>230</th>\n",
              "      <td>BAHUBALI WINE</td>\n",
              "      <td>31.0</td>\n",
              "      <td>20</td>\n",
              "      <td>8</td>\n",
              "    </tr>\n",
              "    <tr>\n",
              "      <th>824</th>\n",
              "      <td>TIRUMALA-50(13*16)</td>\n",
              "      <td>28.0</td>\n",
              "      <td>10</td>\n",
              "      <td>9</td>\n",
              "    </tr>\n",
              "    <tr>\n",
              "      <th>465</th>\n",
              "      <td>NO-1</td>\n",
              "      <td>160.0</td>\n",
              "      <td>123</td>\n",
              "      <td>10</td>\n",
              "    </tr>\n",
              "  </tbody>\n",
              "</table>\n",
              "</div>"
            ],
            "text/plain": [
              "                Product   Rate  Top_Sell_Rank  Popularity_Rank\n",
              "91             14 GREEN  400.0              1                1\n",
              "825  TIRUMALA-50(16*20)   30.0             19                2\n",
              "238     BLACK DOG-350ML   33.0             15                3\n",
              "223         APPLE WATER   29.0             11                4\n",
              "843        VISHNU 300ML   50.0             16                5\n",
              "842        VISHNU 250ML   35.0              7                6\n",
              "19           10*10 TEJA  142.0             64                7\n",
              "230       BAHUBALI WINE   31.0             20                8\n",
              "824  TIRUMALA-50(13*16)   28.0             10                9\n",
              "465                NO-1  160.0            123               10"
            ]
          },
          "metadata": {
            "tags": []
          },
          "execution_count": 23
        }
      ]
    },
    {
      "cell_type": "markdown",
      "metadata": {
        "id": "5iqoStUNBP0Z"
      },
      "source": [
        "### Store Preprocessed Data to csv"
      ]
    },
    {
      "cell_type": "code",
      "metadata": {
        "id": "OFEnfmtQBS_x"
      },
      "source": [
        "product_rankings.to_csv('Product_Rankings.csv', index=False)"
      ],
      "execution_count": 25,
      "outputs": []
    },
    {
      "cell_type": "markdown",
      "metadata": {
        "id": "eD5-NzohBXzy"
      },
      "source": [
        "### Creating a Pickle file and storing with the Ranking dataframe"
      ]
    },
    {
      "cell_type": "code",
      "metadata": {
        "id": "Rxngh-t6BYMh"
      },
      "source": [
        "import pickle\n",
        "pickle.dump(product_rankings, open('prod_ranking_model.pkl','wb'))"
      ],
      "execution_count": 24,
      "outputs": []
    }
  ]
}